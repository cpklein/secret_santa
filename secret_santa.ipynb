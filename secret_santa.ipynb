{
 "cells": [
  {
   "cell_type": "code",
   "execution_count": 114,
   "id": "17254545-7c45-46d1-a788-45476b137a1b",
   "metadata": {},
   "outputs": [],
   "source": [
    "import random\n",
    "import math\n",
    "import numpy\n",
    "import pylab\n",
    "import matplotlib.pyplot as plt"
   ]
  },
  {
   "cell_type": "code",
   "execution_count": null,
   "id": "b827bc43-dc43-4233-a37b-5e5666307eee",
   "metadata": {},
   "outputs": [],
   "source": [
    "Theoretically we should have the following probabilities"
   ]
  },
  {
   "cell_type": "code",
   "execution_count": 140,
   "id": "aebf9f50-b5d8-4513-be5c-226e227b8f49",
   "metadata": {},
   "outputs": [
    {
     "data": {
      "image/png": "[encoded data removed]",
      "text/plain": [
       "<Figure size 640x480 with 1 Axes>"
      ]
     },
     "metadata": {},
     "output_type": "display_data"
    }
   ],
   "source": [
    "# p = probability of having a full loop among the Secret Santa with n friends\n",
    "def p(n):\n",
    "    return(1/n)\n",
    "s = numpy.arange(3,34)\n",
    "ps = [p(i) for i in s]\n",
    "plt.bar(s, ps, width=0.1,edgecolor='None',color='k',align='center')\n",
    "plt.axis((2, 34, 0, 0.4))\n",
    "plt.xlabel('number of friends')\n",
    "plt.ylabel('full loop probability')\n",
    "plt.show()"
   ]
  },
  {
   "cell_type": "markdown",
   "id": "86bae1ef-8502-4406-9b5f-1a3fba437a36",
   "metadata": {},
   "source": [
    "## Testing with multiple trials "
   ]
  },
  {
   "cell_type": "markdown",
   "id": "41a65e88-1695-4798-9018-d5a6e2dc1cbb",
   "metadata": {},
   "source": [
    "### Definitions"
   ]
  },
  {
   "cell_type": "code",
   "execution_count": 147,
   "id": "70ac18b8-1113-4b4a-a179-267a4e125f68",
   "metadata": {},
   "outputs": [],
   "source": [
    "trials = 100000\n",
    "friends = 33"
   ]
  },
  {
   "cell_type": "markdown",
   "id": "70d6a291-9095-4628-9618-3b2b2533311a",
   "metadata": {},
   "source": [
    "### Functions"
   ]
  },
  {
   "cell_type": "raw",
   "id": "4677d216-0795-437f-8f6f-25c7b0b22479",
   "metadata": {},
   "source": [
    "The function run_party runs through the list of friends looking for eventual loop breaks. It mimics the reveal party of Secret Santa."
   ]
  },
  {
   "cell_type": "code",
   "execution_count": 142,
   "id": "5f72b039-d69b-4095-a770-a505fbc03f30",
   "metadata": {},
   "outputs": [],
   "source": [
    "def run_party(group):\n",
    "    checked = [0] * len(group)\n",
    "    next = 1\n",
    "    for i in range(1,len(group)):\n",
    "        checked[next-1] =  1\n",
    "        next = group[next - 1]\n",
    "        # if the next friend has already been checked, the loop was closed before the end of availbale friends and we return False\n",
    "        if checked[next-1] == 1:\n",
    "            return (False)\n",
    "    # We have reached the end of the list of friends, so we have a full loop and return True\n",
    "    return (True)"
   ]
  },
  {
   "cell_type": "raw",
   "id": "16fe5384-0fbb-43f3-9ea3-776900730cc1",
   "metadata": {},
   "source": [
    "The function picks runs a full process of the Secret Santa"
   ]
  },
  {
   "cell_type": "code",
   "execution_count": 143,
   "id": "ba7beaf3-614a-456b-9d27-4ac1fcf43db7",
   "metadata": {},
   "outputs": [],
   "source": [
    "def picks(n):\n",
    "    # Think of the 'friends' array as if each element is a different friend (F1, F2, ..., Fn) And the content of each element is the picked Friend .\n",
    "    # We start by having each friend with its own name\n",
    "    friends = list(range(1, n+1))\n",
    "    # Then we run the 'picks'\n",
    "    random.shuffle(friends)\n",
    "    # Then we go through the reveal party where we check if the outcome if a full loop\n",
    "    if run_party(friends):\n",
    "        return(True)\n",
    "    return(False)"
   ]
  },
  {
   "cell_type": "markdown",
   "id": "912892d1-2c1d-4ff7-873f-40f0ec2af201",
   "metadata": {},
   "source": [
    "### Run trials"
   ]
  },
  {
   "cell_type": "code",
   "execution_count": 148,
   "id": "aade16c7-93c8-48d6-b404-fa9e7aefe446",
   "metadata": {},
   "outputs": [
    {
     "name": "stdout",
     "output_type": "stream",
     "text": [
      "Theoretical Probability: 0.030303030303030304\n",
      "Observed Probability: 0.0309\n"
     ]
    }
   ],
   "source": [
    "loopd = 0\n",
    "remaining = trials\n",
    "while (remaining > 0):\n",
    "    if (picks(friends)):\n",
    "        # We count the number of successfull full loops\n",
    "        loopd += 1\n",
    "    remaining -= 1\n",
    "print ('Theoretical Probability:', p(friends))\n",
    "print ('Observed Probability:', loopd/trials)"
   ]
  },
  {
   "cell_type": "code",
   "execution_count": null,
   "id": "87ed144f-9ca6-40d5-bcfa-a54e9dd9f082",
   "metadata": {},
   "outputs": [],
   "source": []
  }
 ],
 "metadata": {
  "kernelspec": {
   "display_name": "probability",
   "language": "python",
   "name": "probability"
  },
  "language_info": {
   "codemirror_mode": {
    "name": "ipython",
    "version": 3
   },
   "file_extension": ".py",
   "mimetype": "text/x-python",
   "name": "python",
   "nbconvert_exporter": "python",
   "pygments_lexer": "ipython3",
   "version": "3.11.5"
  }
 },
 "nbformat": 4,
 "nbformat_minor": 5
}
